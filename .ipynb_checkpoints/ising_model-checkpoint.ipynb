{
 "cells": [
  {
   "cell_type": "markdown",
   "metadata": {},
   "source": [
    "## Computer simulation of the Ising Model"
   ]
  },
  {
   "cell_type": "code",
   "execution_count": 1,
   "metadata": {},
   "outputs": [],
   "source": [
    "import matplotlib.animation as animation\n",
    "import matplotlib.pyplot as plt\n",
    "%matplotlib notebook\n",
    "import scipy as sci\n",
    "import pandas as pd\n",
    "import numpy as np"
   ]
  },
  {
   "cell_type": "code",
   "execution_count": 2,
   "metadata": {},
   "outputs": [],
   "source": [
    "dim = 10"
   ]
  },
  {
   "cell_type": "code",
   "execution_count": 3,
   "metadata": {},
   "outputs": [],
   "source": [
    "lattice = np.random.randint(2, size=(dim, dim))\n",
    "for l in range(dim):\n",
    "    for a in range(dim):\n",
    "        if lattice[l][a] == 0: lattice[l][a] = -1"
   ]
  },
  {
   "cell_type": "code",
   "execution_count": 4,
   "metadata": {},
   "outputs": [
    {
     "data": {
      "image/png": "[encoded data removed]",
      "text/plain": [
       "<Figure size 288x288 with 1 Axes>"
      ]
     },
     "metadata": {
      "needs_background": "light"
     },
     "output_type": "display_data"
    }
   ],
   "source": [
    "# Plotting lattice\n",
    "plt.matshow(lattice)\n",
    "plt.show()"
   ]
  },
  {
   "cell_type": "code",
   "execution_count": 5,
   "metadata": {},
   "outputs": [],
   "source": [
    "def flipspin(sp):\n",
    "    if sp == -1: \n",
    "        return 1\n",
    "    else:\n",
    "        return -1"
   ]
  },
  {
   "cell_type": "code",
   "execution_count": 6,
   "metadata": {},
   "outputs": [],
   "source": [
    "# boundary condition preservation function\n",
    "def bc(i):\n",
    "    if i >= dim:\n",
    "        return 0\n",
    "    if i < 0:\n",
    "        return dim - 1\n",
    "    else:\n",
    "        return i"
   ]
  },
  {
   "cell_type": "code",
   "execution_count": 7,
   "metadata": {},
   "outputs": [],
   "source": [
    "# def init():\n",
    "#     lattice = np.random.randint(2, size=(dim, dim))\n",
    "#     for l in range(dim):\n",
    "#         for a in range(dim):\n",
    "#             if lattice[l][a] == 0: lattice[l][a] = -1\n",
    "                \n",
    "#     return lattice"
   ]
  },
  {
   "cell_type": "code",
   "execution_count": 8,
   "metadata": {},
   "outputs": [],
   "source": [
    "i = 0\n",
    "J = 1\n",
    "k = 2\n",
    "T = 2\n",
    "def animate(i):\n",
    "    ri = np.random.randint(dim)\n",
    "    rj = np.random.randint(dim)\n",
    "    \n",
    "    delta_1 = -1 * lattice[ri][rj] * (lattice[bc(ri-1)][rj] + lattice[bc(ri+1)][rj] #this may be calculating just the energy, not delta energy\n",
    "                                         + lattice[ri][bc(rj-1)] + lattice[ri][bc(rj+1)])\n",
    "    \n",
    "    lattice[ri][rj] = flipspin(lattice[ri][rj])\n",
    "    \n",
    "    delta_2 = -1 * lattice[ri][rj] * (lattice[bc(ri-1)][rj] + lattice[bc(ri+1)][rj] #this may be calculating just the energy, not delta energy\n",
    "                                         + lattice[ri][bc(rj-1)] + lattice[ri][bc(rj+1)])\n",
    "    delta_energy = delta_2 - delta_1\n",
    "    if delta_energy < 0 or np.random.rand() < np.exp(-delta_energy / i * -10): #last const is Temp\n",
    "        pass\n",
    "    else:\n",
    "        lattice[ri][rj] = flipspin(lattice[ri][rj])\n",
    "        \n",
    "    showm.set_array(lattice)"
   ]
  },
  {
   "cell_type": "code",
   "execution_count": 9,
   "metadata": {},
   "outputs": [
    {
     "name": "stderr",
     "output_type": "stream",
     "text": [
      "/Users/charliedelorey/opt/anaconda3/lib/python3.7/site-packages/ipykernel_launcher.py:17: RuntimeWarning: invalid value encountered in long_scalars\n",
      "Traceback (most recent call last):\n",
      "  File \"/Users/charliedelorey/opt/anaconda3/lib/python3.7/site-packages/matplotlib/cbook/__init__.py\", line 216, in process\n",
      "    func(*args, **kwargs)\n",
      "  File \"/Users/charliedelorey/opt/anaconda3/lib/python3.7/site-packages/matplotlib/animation.py\", line 953, in _start\n",
      "    self._init_draw()\n",
      "  File \"/Users/charliedelorey/opt/anaconda3/lib/python3.7/site-packages/matplotlib/animation.py\", line 1732, in _init_draw\n",
      "    self._draw_frame(next(self.new_frame_seq()))\n",
      "  File \"/Users/charliedelorey/opt/anaconda3/lib/python3.7/site-packages/matplotlib/animation.py\", line 1758, in _draw_frame\n",
      "    raise RuntimeError('The animation function must return a '\n",
      "RuntimeError: The animation function must return a sequence of Artist objects.\n"
     ]
    },
    {
     "data": {
      "image/png": "[encoded data removed]",
      "text/plain": [
       "<Figure size 432x288 with 2 Axes>"
      ]
     },
     "metadata": {
      "needs_background": "light"
     },
     "output_type": "display_data"
    }
   ],
   "source": [
    "fig, ax = plt.subplots()\n",
    "showm = ax.matshow(lattice)\n",
    "plt.colorbar(showm)\n",
    "\n",
    "anim = animation.FuncAnimation(fig, animate, #init_func=init,\n",
    "                               frames=600, interval=20, blit=True)\n",
    "\n",
    "# # save the animation as an mp4.  This requires ffmpeg or mencoder to be\n",
    "# # installed.  The extra_args ensure that the x264 codec is used, so that\n",
    "# # the video can be embedded in html5.  You may need to adjust this for\n",
    "# # your system: for more information, see\n",
    "# # http://matplotlib.sourceforge.net/api/animation_api.html\n",
    "# anim.save('basic_animation.mp4', fps=30, extra_args=['-vcodec', 'libx264'])\n",
    "\n",
    "plt.show()"
   ]
  },
  {
   "cell_type": "code",
   "execution_count": null,
   "metadata": {},
   "outputs": [],
   "source": []
  }
 ],
 "metadata": {
  "kernelspec": {
   "display_name": "Python 3",
   "language": "python",
   "name": "python3"
  },
  "language_info": {
   "codemirror_mode": {
    "name": "ipython",
    "version": 3
   },
   "file_extension": ".py",
   "mimetype": "text/x-python",
   "name": "python",
   "nbconvert_exporter": "python",
   "pygments_lexer": "ipython3",
   "version": "3.7.4"
  }
 },
 "nbformat": 4,
 "nbformat_minor": 2
}
