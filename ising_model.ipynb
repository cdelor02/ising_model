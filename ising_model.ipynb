{
 "cells": [
  {
   "cell_type": "markdown",
   "metadata": {},
   "source": [
    "# Computer simulation of the Ising Model"
   ]
  },
  {
   "cell_type": "code",
   "execution_count": 1,
   "metadata": {},
   "outputs": [],
   "source": [
    "from scipy.constants import find, physical_constants\n",
    "import matplotlib.animation as animation\n",
    "import matplotlib.pyplot as plt\n",
    "from matplotlib import colors\n",
    "%matplotlib notebook\n",
    "import scipy as sci\n",
    "import pandas as pd\n",
    "import numpy as np\n",
    "from random import *\n",
    "import math"
   ]
  },
  {
   "cell_type": "code",
   "execution_count": 2,
   "metadata": {},
   "outputs": [],
   "source": [
    "dim = 10\n",
    "J = 1\n",
    "T = 10\n",
    "mag_at_config = np.array([])"
   ]
  },
  {
   "cell_type": "code",
   "execution_count": 24,
   "metadata": {},
   "outputs": [
    {
     "data": {
      "text/plain": [
       "numpy.ndarray"
      ]
     },
     "execution_count": 24,
     "metadata": {},
     "output_type": "execute_result"
    }
   ],
   "source": [
    "lattice = np.random.randint(2, size=(dim, dim))\n",
    "for l in range(dim):\n",
    "    for a in range(dim):\n",
    "        if lattice[l][a] == 0: lattice[l][a] = -1\n",
    "\n",
    "type(lattice)"
   ]
  },
  {
   "cell_type": "code",
   "execution_count": 5,
   "metadata": {},
   "outputs": [],
   "source": [
    "def calc_energy(ri, rj, lat, spn):\n",
    "    '''\n",
    "    Returns energy value for a particular element of a lattice\n",
    "    \n",
    "    Args:\n",
    "        ri (int): Index i of the lattice\n",
    "        rj (int): Index j of the lattice\n",
    "        lat (numpy.ndarray): Numpy 2D array\n",
    "        spn (int): Spin [-1, 1] of lattice at i, j\n",
    "    \n",
    "    Returns: \n",
    "        eng (int): Energy calculated for i, j lattice position\n",
    "    '''\n",
    "    \n",
    "    eng = -J * spn * (lat[(ri-1)%dim][rj] + lat[(ri+1)%dim][rj] +\n",
    "                      lat[ri][(rj-1)%dim] + lat[ri][(rj+1)%dim])\n",
    "    return eng"
   ]
  },
  {
   "cell_type": "code",
   "execution_count": 7,
   "metadata": {},
   "outputs": [],
   "source": [
    "def init():\n",
    "    dat.set_array(lattice)        \n",
    "    return dat,\n",
    "\n",
    "\n",
    "def animate(i):\n",
    "    indices = list(zip(np.indices((dim,dim))[0].flatten(),np.indices((dim,dim))[1].flatten()))\n",
    "    shuffle(indices)\n",
    "    \n",
    "    for (ri, rj) in indices:\n",
    "        delta_E = calc_energy(ri, rj, lattice, -lattice[ri][rj]) - \\\n",
    "                  calc_energy(ri, rj, lattice, lattice[ri][rj])\n",
    "\n",
    "        if delta_E < 0 or random() < math.exp(-1 * delta_E / T): \n",
    "            lattice[ri][rj] *= -1\n",
    "    \n",
    "#     mag_at_config.append(1/dim * np.sum(lattice)) #tested, but caused animation to stop \n",
    "    \n",
    "    dat.set_array(lattice)\n",
    "\n",
    "    return dat,"
   ]
  },
  {
   "cell_type": "code",
   "execution_count": 8,
   "metadata": {},
   "outputs": [
    {
     "data": {
      "image/png": "[encoded data removed]",
      "text/plain": [
       "<Figure size 432x288 with 2 Axes>"
      ]
     },
     "metadata": {
      "needs_background": "light"
     },
     "output_type": "display_data"
    }
   ],
   "source": [
    "fig, ax = plt.subplots()\n",
    "dat = ax.matshow(lattice)\n",
    "plt.colorbar(dat)\n",
    "\n",
    "\n",
    "anim = animation.FuncAnimation(fig, animate, #init_func=init,\n",
    "                               frames=600, interval=20, blit=True)\n",
    "\n",
    "# # save the animation as an mp4.  This requires ffmpeg or mencoder to be\n",
    "# # installed.  The extra_args ensure that the x264 codec is used, so that\n",
    "# # the video can be embedded in html5.  You may need to adjust this for\n",
    "# # your system: for more information, see\n",
    "# # http://matplotlib.sourceforge.net/api/animation_api.html\n",
    "# anim.save('basic_animation.mp4', fps=30, extra_args=['-vcodec', 'libx264'])"
   ]
  },
  {
   "cell_type": "markdown",
   "metadata": {},
   "source": [
    "## Other model, similar to the Ising model: the Hopfield model for modeling memory [used in neuroscience]"
   ]
  },
  {
   "cell_type": "code",
   "execution_count": 42,
   "metadata": {},
   "outputs": [],
   "source": [
    "N = 8 #Number of neurons\n",
    "_k = sci.constants.physical_constants['Boltzmann constant'][0] #Boltzmann's constant"
   ]
  },
  {
   "cell_type": "code",
   "execution_count": 43,
   "metadata": {},
   "outputs": [
    {
     "name": "stdout",
     "output_type": "stream",
     "text": [
      "[[inf  0.  0.  0.  0.  0.  0.  0.]\n",
      " [ 0. inf  0.  0.  0.  0.  0.  0.]\n",
      " [ 0.  0. inf  0.  0.  0.  0.  0.]\n",
      " [ 0.  0.  0. inf  0.  0.  0.  0.]\n",
      " [ 0.  0.  0.  0. inf  0.  0.  0.]\n",
      " [ 0.  0.  0.  0.  0. inf  0.  0.]\n",
      " [ 0.  0.  0.  0.  0.  0. inf  0.]\n",
      " [ 0.  0.  0.  0.  0.  0.  0. inf]]\n"
     ]
    }
   ],
   "source": [
    "#patterns we want to me remembered\n",
    "patterns = np.array([[1, -1, 1, -1, 1, -1, 1, -1],\n",
    "                     [1, 1, 1, 1, -1, -1, -1, -1],\n",
    "                     [1, 1, 1, -1, 1, -1, 1, -1],\n",
    "                     [-1, 1, 1, 1, -1, -1, -1, -1]]) \n",
    "\n",
    "#contains weights of all synaptic connections\n",
    "neuron_weight_matrix = np.zeros((N, N), dtype=np.float32)\n",
    "\n",
    "for w in range(N):\n",
    "    neuron_weight_matrix[w][w] = np.inf\n",
    "\n",
    "print(neuron_weight_matrix) #state of matrix before any learning has occurred\n",
    "               #0.5 represents where a neuron would connect to itself, which isn't allowed\n",
    "# print(patterns)"
   ]
  },
  {
   "cell_type": "code",
   "execution_count": 44,
   "metadata": {},
   "outputs": [
    {
     "name": "stdout",
     "output_type": "stream",
     "text": [
      "1 and 2: -1\n",
      "1 and 3: 1\n"
     ]
    }
   ],
   "source": [
    "def weight_between(neur_i, neur_j, pat):\n",
    "    '''\n",
    "    Calculates and returns weight between two given neurons, given a pattern\n",
    "    \n",
    "    Args:\n",
    "        neur_i (int): Neuron \n",
    "        neur_j (int): Neuron\n",
    "        pat (numpy.ndarray): Pattern (array of -1s and 1s)\n",
    "    \n",
    "    Returns: \n",
    "        (int): product of the pattern values at index [neur_i] and [neur_j]\n",
    "    '''\n",
    "    return int(pat[neur_i] * pat[neur_j])\n",
    "\n",
    "print(\"1 and 2:\", weight_between(1, 2, patterns[0]))\n",
    "print(\"1 and 3:\", weight_between(1, 3, patterns[0]))"
   ]
  },
  {
   "cell_type": "code",
   "execution_count": 45,
   "metadata": {},
   "outputs": [
    {
     "name": "stdout",
     "output_type": "stream",
     "text": [
      "[[inf  0.  0.  0.  0.  0.  0.  0.]\n",
      " [ 0. inf  0.  0.  0.  0.  0.  0.]\n",
      " [ 0.  0. inf  0.  0.  0.  0.  0.]\n",
      " [ 0.  0.  0. inf  0.  0.  0.  0.]\n",
      " [ 0.  0.  0.  0. inf  0.  0.  0.]\n",
      " [ 0.  0.  0.  0.  0. inf  0.  0.]\n",
      " [ 0.  0.  0.  0.  0.  0. inf  0.]\n",
      " [ 0.  0.  0.  0.  0.  0.  0. inf]]\n",
      "\n",
      "learned first pattern:\n",
      " [[inf -1.  1. -1.  1. -1.  1. -1.]\n",
      " [-1. inf -1.  1. -1.  1. -1.  1.]\n",
      " [ 1. -1. inf -1.  1. -1.  1. -1.]\n",
      " [-1.  1. -1. inf -1.  1. -1.  1.]\n",
      " [ 1. -1.  1. -1. inf -1.  1. -1.]\n",
      " [-1.  1. -1.  1. -1. inf -1.  1.]\n",
      " [ 1. -1.  1. -1.  1. -1. inf -1.]\n",
      " [-1.  1. -1.  1. -1.  1. -1. inf]]\n",
      "\n",
      "learned second pattern:\n",
      " [[inf  1.  1.  1. -1. -1. -1. -1.]\n",
      " [ 1. inf  1.  1. -1. -1. -1. -1.]\n",
      " [ 1.  1. inf  1. -1. -1. -1. -1.]\n",
      " [ 1.  1.  1. inf -1. -1. -1. -1.]\n",
      " [-1. -1. -1. -1. inf  1.  1.  1.]\n",
      " [-1. -1. -1. -1.  1. inf  1.  1.]\n",
      " [-1. -1. -1. -1.  1.  1. inf  1.]\n",
      " [-1. -1. -1. -1.  1.  1.  1. inf]]\n"
     ]
    }
   ],
   "source": [
    "def learn_pattern(pat, N):\n",
    "    '''\n",
    "    Returns weight matrix containing weights calculated from a given pattern\n",
    "    \n",
    "    Args:\n",
    "        pat (numpy.ndarray): \"Memory\", array of -1s and 1s to be stored\n",
    "        N (int): Number of neurons in model\n",
    "    \n",
    "    Returns: \n",
    "        ai (int): Sum of each pattern value multiplied by corresponding weight\n",
    "    '''\n",
    "    new_weights = np.zeros((N, N), dtype=np.float32)\n",
    "    for n in range(N):\n",
    "        for e in range(N):\n",
    "            if e == n:\n",
    "                new_weights[e][n] = np.inf\n",
    "            else:\n",
    "                new_weights[e][n] = weight_between(e, n, pat)\n",
    "    \n",
    "    return new_weights\n",
    "    \n",
    "    \n",
    "learnedpat1 = learn_pattern(patterns[0], N) \n",
    "print(neuron_weight_matrix)\n",
    "print(\"\\nlearned first pattern:\\n\", learnedpat1)\n",
    "\n",
    "learnedpat2 = learn_pattern(patterns[1], N)\n",
    "print(\"\\nlearned second pattern:\\n\", learnedpat2)"
   ]
  },
  {
   "cell_type": "code",
   "execution_count": 46,
   "metadata": {},
   "outputs": [],
   "source": [
    "def calc_weight_change(pat1, pat2, length):\n",
    "    '''\n",
    "    Returns updated weight matrix of dimens (length, length),\n",
    "    calculated from two patterns\n",
    "    \n",
    "    Args:\n",
    "        pat1 (numpy.ndarray): \"Memory\", array of -1s and 1s to be stored\n",
    "        pat2 (numpy.ndarray): \"Memory\", array of -1s and 1s to be stored\n",
    "        length (int): Length of matrix (one side); number of neurons in model\n",
    "    \n",
    "    Returns: \n",
    "        wc (numpy.ndarray): Matrix of weights calculated from the patterns\n",
    "    '''\n",
    "    wc = np.zeros((length, length), dtype=np.float32)\n",
    "    for i in range(length):\n",
    "        for j in range(length):\n",
    "            if i == j:\n",
    "                wc[i][j] = np.inf\n",
    "            else:\n",
    "                wc[i][j] = pat1[i][j] + pat2[i][j]\n",
    "\n",
    "    return wc"
   ]
  },
  {
   "cell_type": "code",
   "execution_count": 47,
   "metadata": {},
   "outputs": [
    {
     "name": "stdout",
     "output_type": "stream",
     "text": [
      "[[inf  0.  2.  0.  0. -2.  0. -2.]\n",
      " [ 0. inf  0.  2. -2.  0. -2.  0.]\n",
      " [ 2.  0. inf  0.  0. -2.  0. -2.]\n",
      " [ 0.  2.  0. inf -2.  0. -2.  0.]\n",
      " [ 0. -2.  0. -2. inf  0.  2.  0.]\n",
      " [-2.  0. -2.  0.  0. inf  0.  2.]\n",
      " [ 0. -2.  0. -2.  2.  0. inf  0.]\n",
      " [-2.  0. -2.  0.  0.  2.  0. inf]]\n"
     ]
    }
   ],
   "source": [
    "weightchangebetween1and2 = calc_weight_change(learnedpat1, learnedpat2, N)                \n",
    "print(weightchangebetween1and2)"
   ]
  },
  {
   "cell_type": "markdown",
   "metadata": {},
   "source": [
    "Are these two memories (patterns[0] and patterns[1]) stable? We will check for each neuron, using the following equation for finding the activation dynamics for a given neuron"
   ]
  },
  {
   "cell_type": "code",
   "execution_count": 48,
   "metadata": {},
   "outputs": [],
   "source": [
    "def activ_dynam_one_neuron(pat, weights, threshold):\n",
    "    '''\n",
    "    Returns activation value (sign value) of a given neuron\n",
    "    \n",
    "    Args:\n",
    "        pat (numpy.ndarray): \"Memory\", array of -1s and 1s to be stored\n",
    "        weights (numpy.ndarray): Array of weights for one neuron\n",
    "        threshold (int): Offset value, adjusted in more complex models\n",
    "    \n",
    "    Returns: \n",
    "        ai (int): Sum of each pattern value multiplied by corresponding weight\n",
    "    '''\n",
    "    ai = 0\n",
    "    for i in range(N):\n",
    "        if weights[i] == np.inf:\n",
    "            pass\n",
    "        else:\n",
    "            ai += pat[i] * weights[i] - threshold\n",
    "    \n",
    "    return ai"
   ]
  },
  {
   "cell_type": "code",
   "execution_count": 49,
   "metadata": {},
   "outputs": [
    {
     "name": "stdout",
     "output_type": "stream",
     "text": [
      "a1 is 6.0 so the sign is 1.0\n",
      "a2 is -6.0 so the sign is -1.0\n",
      "a3 is 6.0 so the sign is 1.0\n",
      "a4 is -6.0 so the sign is -1.0\n",
      "a5 is 6.0 so the sign is 1.0\n",
      "a6 is -6.0 so the sign is -1.0\n",
      "a7 is 6.0 so the sign is 1.0\n",
      "a8 is -6.0 so the sign is -1.0\n"
     ]
    }
   ],
   "source": [
    "avals = np.zeros(N)\n",
    "\n",
    "avals[0] = activ_dynam_one_neuron(patterns[0], weightchangebetween1and2[0], 0)\n",
    "print(\"a1 is\", avals[0], \"so the sign is\", np.sign(avals[0]))\n",
    "\n",
    "avals[1] = activ_dynam_one_neuron(patterns[0], weightchangebetween1and2[1], 0)\n",
    "print(\"a2 is\", avals[1], \"so the sign is\", np.sign(avals[1]))\n",
    "\n",
    "avals[2] = activ_dynam_one_neuron(patterns[0], weightchangebetween1and2[2], 0)\n",
    "print(\"a3 is\", avals[2], \"so the sign is\", np.sign(avals[2]))\n",
    "\n",
    "avals[3] = activ_dynam_one_neuron(patterns[0], weightchangebetween1and2[3], 0)\n",
    "print(\"a4 is\", avals[3], \"so the sign is\", np.sign(avals[3]))\n",
    "\n",
    "avals[4] = activ_dynam_one_neuron(patterns[0], weightchangebetween1and2[4], 0)\n",
    "print(\"a5 is\", avals[4], \"so the sign is\", np.sign(avals[4]))\n",
    "\n",
    "avals[5] = activ_dynam_one_neuron(patterns[0], weightchangebetween1and2[5], 0)\n",
    "print(\"a6 is\", avals[5], \"so the sign is\", np.sign(avals[5]))\n",
    "\n",
    "avals[6] = activ_dynam_one_neuron(patterns[0], weightchangebetween1and2[6], 0)\n",
    "print(\"a7 is\", avals[6], \"so the sign is\", np.sign(avals[6]))\n",
    "\n",
    "avals[7] = activ_dynam_one_neuron(patterns[0], weightchangebetween1and2[7], 0)\n",
    "print(\"a8 is\", avals[7], \"so the sign is\", np.sign(avals[7]))\n",
    "\n",
    "signs = np.zeros(N)\n",
    "for i in range(N):\n",
    "    signs[i] = int(np.sign(avals[i]))"
   ]
  },
  {
   "cell_type": "code",
   "execution_count": 50,
   "metadata": {},
   "outputs": [
    {
     "name": "stdout",
     "output_type": "stream",
     "text": [
      "[ 1. -1.  1. -1.  1. -1.  1. -1.]\n"
     ]
    }
   ],
   "source": [
    "print(signs)"
   ]
  },
  {
   "cell_type": "markdown",
   "metadata": {},
   "source": [
    "Wow! We got back the original pattern (patterns[0]), so it looks like 8 out of 8 neurons are stable. Let's try another example, this time where the pattern encodes something a bit more interesting."
   ]
  },
  {
   "cell_type": "code",
   "execution_count": 51,
   "metadata": {},
   "outputs": [],
   "source": [
    "newN = 16\n",
    "\n",
    "A = [-1, 1, 1, -1, #encodes the letter A\n",
    "     1, -1, -1, 1, \n",
    "     1, 1, 1, 1, \n",
    "     1, -1, -1, 1]\n",
    "\n",
    "R = [1, 1, -1, -1, #encodes the letter R\n",
    "    1, -1, 1, -1,\n",
    "    1, 1, -1, -1,\n",
    "    1, -1, 1, -1]"
   ]
  },
  {
   "cell_type": "code",
   "execution_count": 52,
   "metadata": {},
   "outputs": [],
   "source": [
    "nwmatrix = np.zeros((newN, newN), dtype=np.float32)\n",
    "for w in range(newN):\n",
    "    nwmatrix[w][w] = np.inf"
   ]
  },
  {
   "cell_type": "code",
   "execution_count": 54,
   "metadata": {},
   "outputs": [],
   "source": [
    "learnedA = learn_pattern(A, newN)\n",
    "learnedR = learn_pattern(R, newN)"
   ]
  },
  {
   "cell_type": "code",
   "execution_count": 55,
   "metadata": {},
   "outputs": [
    {
     "name": "stdout",
     "output_type": "stream",
     "text": [
      "[[inf  0. -2.  0.  0.  0.  2. -2.  0.  0. -2. -2.  0.  0.  2. -2.]\n",
      " [ 0. inf  0. -2.  2. -2.  0.  0.  2.  2.  0.  0.  2. -2.  0.  0.]\n",
      " [-2.  0. inf  0.  0.  0. -2.  2.  0.  0.  2.  2.  0.  0. -2.  2.]\n",
      " [ 0. -2.  0. inf -2.  2.  0.  0. -2. -2.  0.  0. -2.  2.  0.  0.]\n",
      " [ 0.  2.  0. -2. inf -2.  0.  0.  2.  2.  0.  0.  2. -2.  0.  0.]\n",
      " [ 0. -2.  0.  2. -2. inf  0.  0. -2. -2.  0.  0. -2.  2.  0.  0.]\n",
      " [ 2.  0. -2.  0.  0.  0. inf -2.  0.  0. -2. -2.  0.  0.  2. -2.]\n",
      " [-2.  0.  2.  0.  0.  0. -2. inf  0.  0.  2.  2.  0.  0. -2.  2.]\n",
      " [ 0.  2.  0. -2.  2. -2.  0.  0. inf  2.  0.  0.  2. -2.  0.  0.]\n",
      " [ 0.  2.  0. -2.  2. -2.  0.  0.  2. inf  0.  0.  2. -2.  0.  0.]\n",
      " [-2.  0.  2.  0.  0.  0. -2.  2.  0.  0. inf  2.  0.  0. -2.  2.]\n",
      " [-2.  0.  2.  0.  0.  0. -2.  2.  0.  0.  2. inf  0.  0. -2.  2.]\n",
      " [ 0.  2.  0. -2.  2. -2.  0.  0.  2.  2.  0.  0. inf -2.  0.  0.]\n",
      " [ 0. -2.  0.  2. -2.  2.  0.  0. -2. -2.  0.  0. -2. inf  0.  0.]\n",
      " [ 2.  0. -2.  0.  0.  0.  2. -2.  0.  0. -2. -2.  0.  0. inf -2.]\n",
      " [-2.  0.  2.  0.  0.  0. -2.  2.  0.  0.  2.  2.  0.  0. -2. inf]]\n"
     ]
    }
   ],
   "source": [
    "weightchangeletters = calc_weight_change(learnedA, learnedR, newN)\n",
    "print(weightchangeletters)"
   ]
  },
  {
   "cell_type": "code",
   "execution_count": 56,
   "metadata": {},
   "outputs": [
    {
     "name": "stdout",
     "output_type": "stream",
     "text": [
      "8.0\n",
      "8.0\n",
      "8.0\n",
      "8.0\n",
      "8.0\n",
      "8.0\n",
      "8.0\n",
      "8.0\n",
      "8.0\n",
      "8.0\n",
      "8.0\n",
      "8.0\n",
      "8.0\n",
      "8.0\n",
      "8.0\n",
      "8.0\n"
     ]
    }
   ],
   "source": [
    "recoverA = np.zeros(newN)\n",
    "thold = 0\n",
    "for i in range(newN):\n",
    "    recoverA[i] = activ_dynam_one_neuron(A, weightchangeletters[i], thold)\n",
    "\n",
    "for l in range(newN):\n",
    "    print(recoverA[i])"
   ]
  },
  {
   "cell_type": "markdown",
   "metadata": {},
   "source": [
    "### **NOTE: At this point, this second example does not seem to work. Further testing/debugging is required."
   ]
  },
  {
   "cell_type": "code",
   "execution_count": null,
   "metadata": {},
   "outputs": [],
   "source": []
  }
 ],
 "metadata": {
  "kernelspec": {
   "display_name": "Python 3",
   "language": "python",
   "name": "python3"
  },
  "language_info": {
   "codemirror_mode": {
    "name": "ipython",
    "version": 3
   },
   "file_extension": ".py",
   "mimetype": "text/x-python",
   "name": "python",
   "nbconvert_exporter": "python",
   "pygments_lexer": "ipython3",
   "version": "3.7.4"
  }
 },
 "nbformat": 4,
 "nbformat_minor": 2
}
